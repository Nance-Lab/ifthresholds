{
 "cells": [
  {
   "cell_type": "markdown",
   "metadata": {},
   "source": [
    "### Purpose:\n",
    "- score ranking the thresholding method based on manually labeled images and images produced by various standard threshold method"
   ]
  },
  {
   "attachments": {},
   "cell_type": "markdown",
   "metadata": {},
   "source": [
    "#### To do list:\n",
    "\n",
    "1. input the computer labeled thresholding images\n",
    "2. input the manually labeled images\n",
    "3. design a scoring method to compare and score these images \n",
    "    \n",
    "    \n",
    "    count method\n",
    "    - input manually count \n",
    "    - get automatic count\n",
    "    - compare\n",
    "    \n",
    "    input: image, manually count\n",
    "    output: % of difference\n",
    "    \n",
    "    threshold:  \n",
    "    1. get pixel value on the entire frame and average intensities\n",
    "    2. set threshold (which is at least greater than 3 standard deviations above the noise)\n",
    "    rescale:\n",
    "    \n",
    "    \n",
    "    \n",
    "    count method\n",
    "    - compare number of cells\n",
    "    \n",
    "    overlap \n",
    "    - stack two image to see the overlapped region\n",
    "    - looping through to check the percentage of the pixels \n",
    "    - if the pixel is there or not, \n",
    "    \n",
    "    area method\n",
    "    - compare areas of single cells\n",
    "    \n",
    "    Circularity of single cell:       \n",
    "    - 𝑪 = 𝟒𝝅𝑨/𝑷^𝟐\n",
    "    - how round the cell is \n",
    "    \n",
    "    Aspect ratio of single cell: \n",
    "    - ratio of the length of the major axis to the minor axis \n",
    "    \n",
    "    branching\n",
    "    \n",
    "    VAMPIRE\n",
    "    \n",
    "    \n",
    "4. give scores and ranking of these standard thresholding methods"
   ]
  },
  {
   "cell_type": "code",
   "execution_count": null,
   "metadata": {},
   "outputs": [],
   "source": []
  }
 ],
 "metadata": {
  "kernelspec": {
   "display_name": "Python 3",
   "language": "python",
   "name": "python3"
  },
  "language_info": {
   "codemirror_mode": {
    "name": "ipython",
    "version": 3
   },
   "file_extension": ".py",
   "mimetype": "text/x-python",
   "name": "python",
   "nbconvert_exporter": "python",
   "pygments_lexer": "ipython3",
   "version": "3.7.0"
  }
 },
 "nbformat": 4,
 "nbformat_minor": 4
}
