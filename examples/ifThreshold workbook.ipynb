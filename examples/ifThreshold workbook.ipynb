{
 "cells": [
  {
   "cell_type": "code",
   "execution_count": 1,
   "metadata": {},
   "outputs": [],
   "source": [
    "import skimage\n",
    "import skimage.io as sio\n",
    "from skimage.color import rgb2gray\n",
    "from skimage.measure import regionprops_table\n",
    "import pandas as pd\n",
    "import numpy as np\n",
    "import matplotlib.pyplot as plt\n",
    "from skimage.filters import try_all_threshold\n",
    "from skimage.morphology import remove_small_objects\n",
    "from skimage.measure import label\n",
    "from scipy.ndimage.morphology import binary_fill_holes"
   ]
  },
  {
   "cell_type": "code",
   "execution_count": 38,
   "metadata": {},
   "outputs": [],
   "source": [
    "def img_score(filepath, man_img, man_count):\n",
    "    imagefile = sio.imread(filepath)\n",
    "    imgman = sio.imread(man_img)\n",
    "    img = rgb2gray(imagefile)\n",
    "    # 8 threshold\n",
    "    # original = img\n",
    "    li = skimage.filters.threshold_li(img)\n",
    "    minimum = skimage.filters.threshold_minimum(img)\n",
    "    triangle = skimage.filters.threshold_triangle(img)\n",
    "    isodata = skimage.filters.threshold_isodata(img)\n",
    "    mean = skimage.filters.threshold_mean(img)\n",
    "    otsu = skimage.filters.threshold_otsu(img)\n",
    "    yen = skimage.filters.threshold_yen(img)\n",
    "    # while loop for 7 methods\n",
    "    # img_list = []\n",
    "    threshold = [li, minimum, triangle, isodata, mean, otsu, yen]\n",
    "    scorelist = []\n",
    "    \n",
    "    for i in range (0,7):  \n",
    "        score =[]\n",
    "        thre = threshold[i]\n",
    "        binary = img > thre\n",
    "        #img_list.append(binary)\n",
    "        clean_img = remove_small_objects(binary)  # remove small objects\n",
    "        lab_img = label(clean_img)  # label images to be seen as one or multiple object(s)\n",
    "        lab_imgm = label(imgman)\n",
    "        # count method\n",
    "        props = regionprops(lab_img)\n",
    "        x = np.zeros(len(props))\n",
    "        y = np.zeros(len(props))\n",
    "        area = np.zeros(len(props))\n",
    "        perim = np.zeros(len(props))\n",
    "        #intensity = np.zeros(len(props))\n",
    "        counter = 0\n",
    "        for prop in props:\n",
    "            x[counter] = prop.centroid[0]\n",
    "            y[counter] = prop.centroid[1]\n",
    "            area[counter] = prop.area\n",
    "            perim[counter] = prop.perimeter\n",
    "            #intensity[counter] = prop.mean_intensity\n",
    "            counter += 1\n",
    "        countscore = np.abs((counter-man_count)/man_count)*100\n",
    "        countmethod = ('count method', countscore)\n",
    "        score.append(countmethod)\n",
    "        \n",
    "        # area method\n",
    "        propsm = regionprops(lab_imgm)\n",
    "        xm = np.zeros(len(propsm))\n",
    "        ym = np.zeros(len(propsm))\n",
    "        aream = np.zeros(len(propsm))\n",
    "        perimm = np.zeros(len(propsm))\n",
    "        counterm = 0\n",
    "        for prop in propsm:\n",
    "            xm[counterm] = prop.centroid[0]\n",
    "            ym[counterm] = prop.centroid[1]\n",
    "            aream[counterm] = prop.area\n",
    "            perimm[counterm] = prop.perimeter\n",
    "            counterm += 1\n",
    "        countermin = min(counter, counterm)\n",
    "        if countermin <= 0:\n",
    "            countermin += 1\n",
    "        area.sort()\n",
    "        aream.sort()\n",
    "        areadiff = 0 \n",
    "        for i in range(0, countermin-1):\n",
    "            areaper = ((area[i]-aream[i])/aream[i])*10\n",
    "            areadiff += areaper\n",
    "        areadiffmean = areadiff/countermin\n",
    "        areamethod = ('area method', areadiffmean)\n",
    "        score.append(areamethod)\n",
    "        \n",
    "        # overlap method\n",
    "        fill = binary_fill_holes(clean_img) # filling holes of every cell\n",
    "        rows, cols = fill.shape\n",
    "        num = 0\n",
    "        for i in range(rows):\n",
    "            for j in range(cols):\n",
    "                if fill[i,j] == imgman[i,j]:\n",
    "                    num += 1\n",
    "        overlapdiff = 100-num/(rows*cols)*100\n",
    "        overlapmethod = ('overlap method', overlapdiff)\n",
    "        score.append(overlapmethod)\n",
    "        scorelist.append(score)\n",
    "        #i += 1\n",
    "    return scorelist\n",
    "    \n"
   ]
  },
  {
   "cell_type": "markdown",
   "metadata": {},
   "source": [
    "#### add two more methods"
   ]
  },
  {
   "cell_type": "code",
   "execution_count": 27,
   "metadata": {},
   "outputs": [],
   "source": [
    "def img_score(filepath, man_img, man_count):\n",
    "    imagefile = sio.imread(filepath)\n",
    "    imgman = sio.imread(man_img)\n",
    "    img = rgb2gray(imagefile)\n",
    "    # 8 threshold\n",
    "    # original = img\n",
    "    li = skimage.filters.threshold_li(img)\n",
    "    minimum = skimage.filters.threshold_minimum(img)\n",
    "    triangle = skimage.filters.threshold_triangle(img)\n",
    "    isodata = skimage.filters.threshold_isodata(img)\n",
    "    mean = skimage.filters.threshold_mean(img)\n",
    "    otsu = skimage.filters.threshold_otsu(img)\n",
    "    yen = skimage.filters.threshold_yen(img)\n",
    "    # while loop for 7 methods\n",
    "    # img_list = []\n",
    "    threshold = [li, minimum, triangle, isodata, mean, otsu, yen]\n",
    "    scorelist = []\n",
    "    \n",
    "    for i in range (0,7):  \n",
    "        score =[]\n",
    "        thre = threshold[i]\n",
    "        binary = img > thre\n",
    "        #img_list.append(binary)\n",
    "        clean_img = remove_small_objects(binary)  # remove small objects\n",
    "        lab_img = label(clean_img)  # label images to be seen as one or multiple object(s)\n",
    "        lab_imgm = label(imgman)\n",
    "        # count method\n",
    "        props = regionprops(lab_img)\n",
    "        x = np.zeros(len(props))\n",
    "        y = np.zeros(len(props))\n",
    "        area = np.zeros(len(props))\n",
    "        perim = np.zeros(len(props))\n",
    "        #intensity = np.zeros(len(props))\n",
    "        counter = 0\n",
    "        for prop in props:\n",
    "            x[counter] = prop.centroid[0]\n",
    "            y[counter] = prop.centroid[1]\n",
    "            area[counter] = prop.area\n",
    "            perim[counter] = prop.perimeter\n",
    "            #intensity[counter] = prop.mean_intensity\n",
    "            counter += 1\n",
    "        #regionprops = pd.DataFrame({'X': x, 'Y': y, 'Area': area,'Perim': perim})\n",
    "        table = regionprops_table(lab_img, properties=('perimeter', 'area', 'major_axis_length', 'minor_axis_length'))\n",
    "        features = pd.DataFrame(table)\n",
    "        features['circularity'] = 4*np.pi*features.area/features.perimeter**2\n",
    "        features['aspect_ratio'] = features.major_axis_length/features.minor_axis_length\n",
    "        features = features.dropna()\n",
    "        cirmean = features['circularity'].mean()\n",
    "        ratiomean = features['aspect_ratio'].mean()\n",
    "        \n",
    "        countscore = np.abs((counter-man_count)/man_count)*100\n",
    "        countmethod = ('count method', countscore)\n",
    "        score.append(countmethod)\n",
    "       \n",
    "    \n",
    "        # area method\n",
    "        propsm = regionprops(lab_imgm)\n",
    "        xm = np.zeros(len(propsm))\n",
    "        ym = np.zeros(len(propsm))\n",
    "        aream = np.zeros(len(propsm))\n",
    "        perimm = np.zeros(len(propsm))\n",
    "        counterm = 0\n",
    "        for prop in propsm:\n",
    "            xm[counterm] = prop.centroid[0]\n",
    "            ym[counterm] = prop.centroid[1]\n",
    "            aream[counterm] = prop.area\n",
    "            perimm[counterm] = prop.perimeter\n",
    "            counterm += 1\n",
    "        #regionpropsm = pd.DataFrame({'X': xm, 'Y': ym, 'Area': aream,'Perim': perimm})\n",
    "        \n",
    "        tablem = regionprops_table(lab_imgm, properties=('perimeter', 'area', 'major_axis_length', 'minor_axis_length'))\n",
    "        featuresm = pd.DataFrame(tablem)\n",
    "        featuresm['circularity'] = 4*np.pi*featuresm.area/featuresm.perimeter**2\n",
    "        featuresm['aspect_ratio'] = featuresm.major_axis_length/featuresm.minor_axis_length\n",
    "        featuresm = featuresm.dropna()\n",
    "        cirmeanm = featuresm['circularity'].mean()\n",
    "        ratiomeanm = featuresm['aspect_ratio'].mean()\n",
    "        \n",
    "        countermin = min(counter, counterm)\n",
    "        if countermin <= 0:\n",
    "            countermin += 1\n",
    "        area.sort()\n",
    "        aream.sort()\n",
    "        areadiff = 0 \n",
    "        for i in range(0, countermin-1):\n",
    "            areaper = ((area[i]-aream[i])/aream[i])*10\n",
    "            areadiff += areaper\n",
    "        areadiffmean = areadiff/countermin\n",
    "        areamethod = ('area method', areadiffmean)\n",
    "        score.append(areamethod)\n",
    "        \n",
    "        # overlap method\n",
    "        fill = binary_fill_holes(clean_img) # filling holes of every cell\n",
    "        rows, cols = fill.shape\n",
    "        num = 0\n",
    "        for i in range(rows):\n",
    "            for j in range(cols):\n",
    "                if fill[i,j] == imgman[i,j]:\n",
    "                    num += 1\n",
    "        overlapdiff = 100-num/(rows*cols)*100\n",
    "        overlapmethod = ('overlap method', overlapdiff)\n",
    "        score.append(overlapmethod)\n",
    "        scorelist.append(score)\n",
    "        #i += 1\n",
    "        \n",
    "        #\n",
    "        cirscore = ((cirmean-cirmeanm)/np.abs(cirmeanm))*100\n",
    "        cirmethod = ('circularity', cirscore)\n",
    "        score.append(cirmethod)\n",
    "        \n",
    "        ratioscore = ((ratiomean-ratiomeanm)/np.abs(ratiomeanm))*100\n",
    "        ratiomethod = ('aspect_ratio', ratioscore)\n",
    "        score.append(ratiomethod)\n",
    "        \n",
    "    #return scorelist\n",
    "    return features.iloc[:,4:6],featuresm.iloc[:,4:6]\n",
    "    "
   ]
  },
  {
   "cell_type": "code",
   "execution_count": null,
   "metadata": {},
   "outputs": [],
   "source": []
  },
  {
   "cell_type": "code",
   "execution_count": 2,
   "metadata": {},
   "outputs": [],
   "source": [
    "filepath = '../images/OGD-0.5h_40x_thalamus_1.tif'\n",
    "man_img = '../images/edited_OGD-0.5h_40x_thalamus_1.5h_40x_thalamus_1.tif'\n",
    "man_count = 133"
   ]
  },
  {
   "cell_type": "code",
   "execution_count": 7,
   "metadata": {},
   "outputs": [
    {
     "data": {
      "text/plain": [
       "[<matplotlib.lines.Line2D at 0x7fd4f89c3908>]"
      ]
     },
     "execution_count": 7,
     "metadata": {},
     "output_type": "execute_result"
    },
    {
     "data": {
      "image/png": "[encoded data removed]",
      "text/plain": [
       "<Figure size 432x288 with 1 Axes>"
      ]
     },
     "metadata": {
      "needs_background": "light"
     },
     "output_type": "display_data"
    }
   ],
   "source": [
    "from skimage.exposure import histogram\n",
    "\n",
    "\n",
    "imagefile = sio.imread('slice_OGD-0.5h_40x_thalamus_1.tif')\n",
    "img = rgb2gray(imagefile)\n",
    "    \n",
    "hist, hist_centers = histogram(img)\n",
    "plt.plot(hist_centers, hist, linewidth=4)"
   ]
  },
  {
   "cell_type": "code",
   "execution_count": 40,
   "metadata": {},
   "outputs": [],
   "source": [
    "scores = img_score('../images/slice_OGD-0.5h_40x_thalamus_1.tif', '../images/M_OGD-0.5h_40x_thalamus_1.tif', 123)"
   ]
  },
  {
   "cell_type": "code",
   "execution_count": 45,
   "metadata": {},
   "outputs": [
    {
     "data": {
      "text/plain": [
       "[[('count method', 12.195121951219512),\n",
       "  ('area method', 21.068198644769314),\n",
       "  ('overlap method', 18.516159057617188)],\n",
       " [('count method', 100.0),\n",
       "  ('area method', 0.0),\n",
       "  ('overlap method', 15.195083618164062)],\n",
       " [('count method', 13.821138211382115),\n",
       "  ('area method', 22.468224148922634),\n",
       "  ('overlap method', 20.816421508789062)],\n",
       " [('count method', 15.447154471544716),\n",
       "  ('area method', 16.87899278811853),\n",
       "  ('overlap method', 16.408157348632812)],\n",
       " [('count method', 13.821138211382115),\n",
       "  ('area method', 21.949681337203415),\n",
       "  ('overlap method', 20.59326171875)],\n",
       " [('count method', 15.447154471544716),\n",
       "  ('area method', 16.87899278811853),\n",
       "  ('overlap method', 16.408157348632812)],\n",
       " [('count method', 10.569105691056912),\n",
       "  ('area method', 17.148609922271483),\n",
       "  ('overlap method', 17.15087890625)]]"
      ]
     },
     "execution_count": 45,
     "metadata": {},
     "output_type": "execute_result"
    }
   ],
   "source": [
    "scores"
   ]
  },
  {
   "cell_type": "code",
   "execution_count": 35,
   "metadata": {},
   "outputs": [
    {
     "data": {
      "text/plain": [
       "12.195121951219512"
      ]
     },
     "execution_count": 35,
     "metadata": {},
     "output_type": "execute_result"
    }
   ],
   "source": [
    "score1 = halfhour[0][0][1]\n",
    "score1"
   ]
  },
  {
   "cell_type": "code",
   "execution_count": 66,
   "metadata": {},
   "outputs": [],
   "source": [
    "def whichBest(scores):\n",
    "    li = scores[0][0][1] + scores[0][1][1] + scores[0][2][1]\n",
    "    minimum = scores[1][0][1] + scores[1][1][1] + scores[1][2][1]\n",
    "    triangle = scores[2][0][1] + scores[2][1][1] + scores[2][2][1]\n",
    "    isodata = scores[3][0][1] + scores[3][1][1] + scores[3][2][1]\n",
    "    mean = scores[4][0][1] + scores[4][1][1] + scores[4][2][1]\n",
    "    otsu = scores[5][0][1] + scores[5][1][1] + scores[5][2][1]\n",
    "    yen = scores[6][0][1] + scores[6][1][1] + scores[6][2][1]\n",
    "    minScore = min(li, minimum, triangle, isodata, mean, otsu, yen) \n",
    "    if minScore == li:\n",
    "        print (\"The recommended threshold method is Li with a score of \", minScore/3, \"which means the thresholded image is \", minScore/3, \"% different from the manually labelled image.\")\n",
    "    if minScore == minimum:\n",
    "        print (\"The recommended threshold method is Minimum with a score of \", minScore/3, \"which means the thresholded image is \", minScore/3, \"% different from the manually labelled image.\")\n",
    "    if minScore == triangle:\n",
    "        print (\"The recommended threshold method is Triangle with a score of \", minScore/3, \"which means the thresholded image is \", minScore/3, \"% different from the manually labelled image.\")\n",
    "    if minScore == isodata:\n",
    "        print (\"The recommended threshold method is Isodata with a score of \", minScore/3, \"which means the thresholded image is \", minScore/3, \"% different from the manually labelled image.\")\n",
    "    if minScore == mean:\n",
    "        print (\"The recommended threshold method is Mean with a score of \", minScore/3, \"which means the thresholded image is \", minScore/3, \"% different from the manually labelled image.\")\n",
    "    if minScore == otsu:\n",
    "        print (\"The recommended threshold method is Otsu with a score of \", minScore/3, \"which means the thresholded image is \", minScore/3, \"% different from the manually labelled image.\")\n",
    "    if minScore == yen:\n",
    "        print (\"The recommended threshold method is Yen with a score of \", minScore/3, \"which means the thresholded image is \", minScore/3, \"% different from the manually labelled image.\")"
   ]
  },
  {
   "cell_type": "code",
   "execution_count": 67,
   "metadata": {},
   "outputs": [
    {
     "name": "stdout",
     "output_type": "stream",
     "text": [
      "The recommended threshold method is Yen with a score of  14.956198173192798 which means the thresholded image is  14.956198173192798 % different from the manually labelled image.\n"
     ]
    }
   ],
   "source": [
    "whichBest(scores)"
   ]
  },
  {
   "cell_type": "code",
   "execution_count": 1,
   "metadata": {},
   "outputs": [
    {
     "ename": "NameError",
     "evalue": "name 'scores' is not defined",
     "output_type": "error",
     "traceback": [
      "\u001b[0;31m---------------------------------------------------------------------------\u001b[0m",
      "\u001b[0;31mNameError\u001b[0m                                 Traceback (most recent call last)",
      "\u001b[0;32m<ipython-input-1-00aa5ac41e4b>\u001b[0m in \u001b[0;36m<module>\u001b[0;34m\u001b[0m\n\u001b[1;32m      6\u001b[0m \u001b[0;34m\u001b[0m\u001b[0m\n\u001b[1;32m      7\u001b[0m     \u001b[0mwriter\u001b[0m\u001b[0;34m.\u001b[0m\u001b[0mwriteheader\u001b[0m\u001b[0;34m(\u001b[0m\u001b[0;34m)\u001b[0m\u001b[0;34m\u001b[0m\u001b[0m\n\u001b[0;32m----> 8\u001b[0;31m     \u001b[0mwriter\u001b[0m\u001b[0;34m.\u001b[0m\u001b[0mwriterow\u001b[0m\u001b[0;34m(\u001b[0m\u001b[0;34m{\u001b[0m\u001b[0;34m'Threshold_method'\u001b[0m\u001b[0;34m:\u001b[0m \u001b[0;34m'Li'\u001b[0m\u001b[0;34m,\u001b[0m \u001b[0;34m'score_method'\u001b[0m\u001b[0;34m:\u001b[0m \u001b[0;34m'count method'\u001b[0m\u001b[0;34m,\u001b[0m \u001b[0;34m'Score % off'\u001b[0m\u001b[0;34m:\u001b[0m \u001b[0mscores\u001b[0m\u001b[0;34m[\u001b[0m\u001b[0;36m0\u001b[0m\u001b[0;34m]\u001b[0m\u001b[0;34m[\u001b[0m\u001b[0;36m0\u001b[0m\u001b[0;34m]\u001b[0m\u001b[0;34m[\u001b[0m\u001b[0;36m1\u001b[0m\u001b[0;34m]\u001b[0m\u001b[0;34m}\u001b[0m\u001b[0;34m)\u001b[0m\u001b[0;34m\u001b[0m\u001b[0m\n\u001b[0m\u001b[1;32m      9\u001b[0m     \u001b[0mwriter\u001b[0m\u001b[0;34m.\u001b[0m\u001b[0mwriterow\u001b[0m\u001b[0;34m(\u001b[0m\u001b[0;34m{\u001b[0m\u001b[0;34m'Threshold_method'\u001b[0m\u001b[0;34m:\u001b[0m \u001b[0;34m'Li'\u001b[0m\u001b[0;34m,\u001b[0m \u001b[0;34m'score_method'\u001b[0m\u001b[0;34m:\u001b[0m \u001b[0;34m'area method'\u001b[0m\u001b[0;34m,\u001b[0m \u001b[0;34m'Score % off'\u001b[0m\u001b[0;34m:\u001b[0m \u001b[0mscores\u001b[0m\u001b[0;34m[\u001b[0m\u001b[0;36m0\u001b[0m\u001b[0;34m]\u001b[0m\u001b[0;34m[\u001b[0m\u001b[0;36m1\u001b[0m\u001b[0;34m]\u001b[0m\u001b[0;34m[\u001b[0m\u001b[0;36m1\u001b[0m\u001b[0;34m]\u001b[0m\u001b[0;34m}\u001b[0m\u001b[0;34m)\u001b[0m\u001b[0;34m\u001b[0m\u001b[0m\n\u001b[1;32m     10\u001b[0m     \u001b[0mwriter\u001b[0m\u001b[0;34m.\u001b[0m\u001b[0mwriterow\u001b[0m\u001b[0;34m(\u001b[0m\u001b[0;34m{\u001b[0m\u001b[0;34m'Threshold_method'\u001b[0m\u001b[0;34m:\u001b[0m \u001b[0;34m'Li'\u001b[0m\u001b[0;34m,\u001b[0m \u001b[0;34m'score_method'\u001b[0m\u001b[0;34m:\u001b[0m \u001b[0;34m'overlap method'\u001b[0m\u001b[0;34m,\u001b[0m \u001b[0;34m'Score % off'\u001b[0m\u001b[0;34m:\u001b[0m \u001b[0mscores\u001b[0m\u001b[0;34m[\u001b[0m\u001b[0;36m0\u001b[0m\u001b[0;34m]\u001b[0m\u001b[0;34m[\u001b[0m\u001b[0;36m2\u001b[0m\u001b[0;34m]\u001b[0m\u001b[0;34m[\u001b[0m\u001b[0;36m1\u001b[0m\u001b[0;34m]\u001b[0m\u001b[0;34m}\u001b[0m\u001b[0;34m)\u001b[0m\u001b[0;34m\u001b[0m\u001b[0m\n",
      "\u001b[0;31mNameError\u001b[0m: name 'scores' is not defined"
     ]
    }
   ],
   "source": [
    "import csv\n",
    "\n",
    "with open('example.csv', 'w', newline='') as csvfile:\n",
    "    fieldnames = ['Threshold_method', 'score_method', 'Score']\n",
    "    writer = csv.DictWriter(csvfile, fieldnames=fieldnames)\n",
    "\n",
    "    writer.writeheader()\n",
    "    writer.writerow({'Threshold_method': 'Li', 'score_method': 'count method', 'Score % off': scores[0][0][1]})\n",
    "    writer.writerow({'Threshold_method': 'Li', 'score_method': 'area method', 'Score % off': scores[0][1][1]})\n",
    "    writer.writerow({'Threshold_method': 'Li', 'score_method': 'overlap method', 'Score % off': scores[0][2][1]})\n",
    "    writer.writerow({'Threshold_method': 'Minimum', 'score_method': 'count method', 'Score % off': scores[1][0][1]})\n",
    "    writer.writerow({'Threshold_method': 'Minimum', 'score_method': 'area method', 'Score % off': scores[1][1][1]})\n",
    "    writer.writerow({'Threshold_method': 'Minimum', 'score_method': 'overlap method', 'Score % off': scores[1][2][1]})\n",
    "    writer.writerow({'Threshold_method': 'Triangle', 'score_method': 'count method', 'Score % off': scores[2][0][1]})\n",
    "    writer.writerow({'Threshold_method': 'Triangle', 'score_method': 'area method', 'Score % off': scores[2][1][1]})\n",
    "    writer.writerow({'Threshold_method': 'Triangle', 'score_method': 'overlap method', 'Score % off': scores[2][2][1]})\n",
    "    writer.writerow({'Threshold_method': 'isodata', 'score_method': 'count method', 'Score % off': scores[3][0][1]})\n",
    "    writer.writerow({'Threshold_method': 'isodata', 'score_method': 'area method', 'Score % off': scores[3][1][1]})\n",
    "    writer.writerow({'Threshold_method': 'isodata', 'score_method': 'overlap method', 'Score % off': scores[3][2][1]})\n",
    "    writer.writerow({'Threshold_method': 'Mean', 'score_method': 'count method', 'Score % off': scores[4][0][1]})\n",
    "    writer.writerow({'Threshold_method': 'Mean', 'score_method': 'area method', 'Score % off': scores[4][1][1]})\n",
    "    writer.writerow({'Threshold_method': 'Mean', 'score_method': 'overlap method', 'Score % off': scores[4][2][1]})\n",
    "    writer.writerow({'Threshold_method': 'Otsu', 'score_method': 'count method', 'Score % off': scores[5][0][1]})\n",
    "    writer.writerow({'Threshold_method': 'Otsu', 'score_method': 'area method', 'Score % off': scores[5][1][1]})\n",
    "    writer.writerow({'Threshold_method': 'Otsu', 'score_method': 'overlap method', 'Score % off': scores[5][2][1]})\n",
    "    writer.writerow({'Threshold_method': 'Yen', 'score_method': 'count method', 'Score % off': scores[6][0][1]})\n",
    "    writer.writerow({'Threshold_method': 'Yen', 'score_method': 'area method', 'Score % off': scores[6][1][1]})\n",
    "    writer.writerow({'Threshold_method': 'Yen', 'score_method': 'overlap method', 'Score % off': scores[6][2][1]})\n",
    "    \n",
    "import pandas as pd\n",
    "df = pd.read_csv('example.csv')\n",
    "df"
   ]
  },
  {
   "cell_type": "code",
   "execution_count": 4,
   "metadata": {},
   "outputs": [
    {
     "name": "stdout",
     "output_type": "stream",
     "text": [
      "  Threshold_method  score_method  Score\n",
      "0               Li  count method      1\n"
     ]
    }
   ],
   "source": [
    "import csv\n",
    "\n",
    "with open('example.csv', 'w', newline='') as csvfile:\n",
    "    fieldnames = ['Threshold_method', 'score_method', 'Score']\n",
    "    writer = csv.DictWriter(csvfile, fieldnames=fieldnames)\n",
    "\n",
    "    writer.writeheader()\n",
    "    writer.writerow({'Threshold_method': 'Li', 'score_method': 'count method', 'Score': 1})\n",
    "\n",
    "import pandas as pd\n",
    "df = pd.read_csv('example.csv')\n",
    "print (df)"
   ]
  },
  {
   "cell_type": "markdown",
   "metadata": {},
   "source": [
    "threshold method score = li, minimum, triangle, isodata, mean, otsu, yen"
   ]
  },
  {
   "cell_type": "code",
   "execution_count": 14,
   "metadata": {},
   "outputs": [
    {
     "ename": "NameError",
     "evalue": "name 'regionprops_table' is not defined",
     "output_type": "error",
     "traceback": [
      "\u001b[0;31m---------------------------------------------------------------------------\u001b[0m",
      "\u001b[0;31mNameError\u001b[0m                                 Traceback (most recent call last)",
      "\u001b[0;32m<ipython-input-14-3601284c3202>\u001b[0m in \u001b[0;36m<module>\u001b[0;34m\u001b[0m\n\u001b[0;32m----> 1\u001b[0;31m \u001b[0mnotreatment\u001b[0m \u001b[0;34m=\u001b[0m \u001b[0mimg_score\u001b[0m\u001b[0;34m(\u001b[0m\u001b[0;34m'../images/slice_Non-treated_40x_thalamus_1.tif'\u001b[0m\u001b[0;34m,\u001b[0m \u001b[0;34m'../images/M_Non-treated_40x_thalamus_1.tif'\u001b[0m\u001b[0;34m,\u001b[0m \u001b[0;36m116\u001b[0m\u001b[0;34m)\u001b[0m\u001b[0;34m\u001b[0m\u001b[0m\n\u001b[0m\u001b[1;32m      2\u001b[0m \u001b[0mhalfhour\u001b[0m \u001b[0;34m=\u001b[0m \u001b[0mimg_score\u001b[0m\u001b[0;34m(\u001b[0m\u001b[0;34m'../images/slice_OGD-0.5h_40x_thalamus_1.tif'\u001b[0m\u001b[0;34m,\u001b[0m \u001b[0;34m'../images/M_OGD-0.5h_40x_thalamus_1.tif'\u001b[0m\u001b[0;34m,\u001b[0m \u001b[0;36m123\u001b[0m\u001b[0;34m)\u001b[0m\u001b[0;34m\u001b[0m\u001b[0m\n\u001b[1;32m      3\u001b[0m \u001b[0monehalf\u001b[0m \u001b[0;34m=\u001b[0m \u001b[0mimg_score\u001b[0m\u001b[0;34m(\u001b[0m\u001b[0;34m'../images/slice_OGD-1.5h_40x_thalamus_1.tif'\u001b[0m\u001b[0;34m,\u001b[0m \u001b[0;34m'../images/M_OGD-1.5h_40x_thalamus_1.tif'\u001b[0m\u001b[0;34m,\u001b[0m \u001b[0;36m11\u001b[0m\u001b[0;34m)\u001b[0m\u001b[0;34m\u001b[0m\u001b[0m\n\u001b[1;32m      4\u001b[0m \u001b[0mthree\u001b[0m \u001b[0;34m=\u001b[0m \u001b[0mimg_score\u001b[0m\u001b[0;34m(\u001b[0m\u001b[0;34m'../images/slice_OGD-3h_40x_thalamus_1.tif'\u001b[0m\u001b[0;34m,\u001b[0m \u001b[0;34m'../images/M_OGD-3h_40x_thalamus_1.tif'\u001b[0m\u001b[0;34m,\u001b[0m \u001b[0;36m151\u001b[0m\u001b[0;34m)\u001b[0m\u001b[0;34m\u001b[0m\u001b[0m\n\u001b[1;32m      5\u001b[0m \u001b[0mSOD\u001b[0m \u001b[0;34m=\u001b[0m \u001b[0mimg_score\u001b[0m\u001b[0;34m(\u001b[0m\u001b[0;34m'../images/slice_OGD-3h+SOD_40x_thalamus_1.tif'\u001b[0m\u001b[0;34m,\u001b[0m \u001b[0;34m'../images/M_OGD-3h+SOD_40x_thalamus_1.tif'\u001b[0m\u001b[0;34m,\u001b[0m \u001b[0;36m111\u001b[0m\u001b[0;34m)\u001b[0m\u001b[0;34m\u001b[0m\u001b[0m\n",
      "\u001b[0;32m<ipython-input-13-246161f34bdd>\u001b[0m in \u001b[0;36mimg_score\u001b[0;34m(filepath, man_img, man_count)\u001b[0m\n\u001b[1;32m     41\u001b[0m             \u001b[0mcounter\u001b[0m \u001b[0;34m+=\u001b[0m \u001b[0;36m1\u001b[0m\u001b[0;34m\u001b[0m\u001b[0m\n\u001b[1;32m     42\u001b[0m         \u001b[0;31m#regionprops = pd.DataFrame({'X': x, 'Y': y, 'Area': area,'Perim': perim})\u001b[0m\u001b[0;34m\u001b[0m\u001b[0;34m\u001b[0m\u001b[0m\n\u001b[0;32m---> 43\u001b[0;31m         \u001b[0mtable\u001b[0m \u001b[0;34m=\u001b[0m \u001b[0mregionprops_table\u001b[0m\u001b[0;34m(\u001b[0m\u001b[0mlab_img\u001b[0m\u001b[0;34m,\u001b[0m \u001b[0mproperties\u001b[0m\u001b[0;34m=\u001b[0m\u001b[0;34m(\u001b[0m\u001b[0;34m'perimeter'\u001b[0m\u001b[0;34m,\u001b[0m \u001b[0;34m'area'\u001b[0m\u001b[0;34m,\u001b[0m \u001b[0;34m'major_axis_length'\u001b[0m\u001b[0;34m,\u001b[0m \u001b[0;34m'minor_axis_length'\u001b[0m\u001b[0;34m)\u001b[0m\u001b[0;34m)\u001b[0m\u001b[0;34m\u001b[0m\u001b[0m\n\u001b[0m\u001b[1;32m     44\u001b[0m         \u001b[0mfeatures\u001b[0m \u001b[0;34m=\u001b[0m \u001b[0mpd\u001b[0m\u001b[0;34m.\u001b[0m\u001b[0mDataFrame\u001b[0m\u001b[0;34m(\u001b[0m\u001b[0mtable\u001b[0m\u001b[0;34m)\u001b[0m\u001b[0;34m\u001b[0m\u001b[0m\n\u001b[1;32m     45\u001b[0m         \u001b[0mfeatures\u001b[0m\u001b[0;34m[\u001b[0m\u001b[0;34m'circularity'\u001b[0m\u001b[0;34m]\u001b[0m \u001b[0;34m=\u001b[0m \u001b[0;36m4\u001b[0m\u001b[0;34m*\u001b[0m\u001b[0mnp\u001b[0m\u001b[0;34m.\u001b[0m\u001b[0mpi\u001b[0m\u001b[0;34m*\u001b[0m\u001b[0mfeatures\u001b[0m\u001b[0;34m.\u001b[0m\u001b[0marea\u001b[0m\u001b[0;34m/\u001b[0m\u001b[0mfeatures\u001b[0m\u001b[0;34m.\u001b[0m\u001b[0mperimeter\u001b[0m\u001b[0;34m**\u001b[0m\u001b[0;36m2\u001b[0m\u001b[0;34m\u001b[0m\u001b[0m\n",
      "\u001b[0;31mNameError\u001b[0m: name 'regionprops_table' is not defined"
     ]
    }
   ],
   "source": [
    "notreatment = img_score('../images/slice_Non-treated_40x_thalamus_1.tif', '../images/M_Non-treated_40x_thalamus_1.tif', 116)\n",
    "halfhour = img_score('../images/slice_OGD-0.5h_40x_thalamus_1.tif', '../images/M_OGD-0.5h_40x_thalamus_1.tif', 123)\n",
    "onehalf = img_score('../images/slice_OGD-1.5h_40x_thalamus_1.tif', '../images/M_OGD-1.5h_40x_thalamus_1.tif', 11)\n",
    "three = img_score('../images/slice_OGD-3h_40x_thalamus_1.tif', '../images/M_OGD-3h_40x_thalamus_1.tif', 151)\n",
    "SOD = img_score('../images/slice_OGD-3h+SOD_40x_thalamus_1.tif', '../images/M_OGD-3h+SOD_40x_thalamus_1.tif', 111)"
   ]
  },
  {
   "cell_type": "code",
   "execution_count": 9,
   "metadata": {},
   "outputs": [
    {
     "ename": "NameError",
     "evalue": "name 'notreatment' is not defined",
     "output_type": "error",
     "traceback": [
      "\u001b[0;31m---------------------------------------------------------------------------\u001b[0m",
      "\u001b[0;31mNameError\u001b[0m                                 Traceback (most recent call last)",
      "\u001b[0;32m<ipython-input-9-558f2afeca54>\u001b[0m in \u001b[0;36m<module>\u001b[0;34m\u001b[0m\n\u001b[0;32m----> 1\u001b[0;31m \u001b[0mnotreatment\u001b[0m\u001b[0;34m\u001b[0m\u001b[0m\n\u001b[0m",
      "\u001b[0;31mNameError\u001b[0m: name 'notreatment' is not defined"
     ]
    }
   ],
   "source": [
    "notreatment"
   ]
  },
  {
   "cell_type": "code",
   "execution_count": 7,
   "metadata": {},
   "outputs": [
    {
     "data": {
      "text/plain": [
       "[[('count method', 12.195121951219512),\n",
       "  ('area method', 21.068198644769314),\n",
       "  ('overlap method', 18.516159057617188)],\n",
       " [('count method', 100.0),\n",
       "  ('area method', 0.0),\n",
       "  ('overlap method', 15.195083618164062)],\n",
       " [('count method', 13.821138211382115),\n",
       "  ('area method', 22.468224148922634),\n",
       "  ('overlap method', 20.816421508789062)],\n",
       " [('count method', 15.447154471544716),\n",
       "  ('area method', 16.87899278811853),\n",
       "  ('overlap method', 16.408157348632812)],\n",
       " [('count method', 13.821138211382115),\n",
       "  ('area method', 21.949681337203415),\n",
       "  ('overlap method', 20.59326171875)],\n",
       " [('count method', 15.447154471544716),\n",
       "  ('area method', 16.87899278811853),\n",
       "  ('overlap method', 16.408157348632812)],\n",
       " [('count method', 10.569105691056912),\n",
       "  ('area method', 17.148609922271483),\n",
       "  ('overlap method', 17.15087890625)]]"
      ]
     },
     "execution_count": 7,
     "metadata": {},
     "output_type": "execute_result"
    }
   ],
   "source": [
    "halfhour"
   ]
  },
  {
   "cell_type": "code",
   "execution_count": 8,
   "metadata": {},
   "outputs": [
    {
     "data": {
      "text/plain": [
       "[[('count method', 0.0),\n",
       "  ('area method', 72.39953605677272),\n",
       "  ('overlap method', 7.2963714599609375)],\n",
       " [('count method', 100.0),\n",
       "  ('area method', 0.0),\n",
       "  ('overlap method', 6.097412109375)],\n",
       " [('count method', 0.0),\n",
       "  ('area method', 81.53599128094655),\n",
       "  ('overlap method', 8.205413818359375)],\n",
       " [('count method', 9.090909090909092),\n",
       "  ('area method', 48.737060521806605),\n",
       "  ('overlap method', 6.394195556640625)],\n",
       " [('count method', 18.181818181818183),\n",
       "  ('area method', 54.832839604834305),\n",
       "  ('overlap method', 9.248733520507812)],\n",
       " [('count method', 9.090909090909092),\n",
       "  ('area method', 48.737060521806605),\n",
       "  ('overlap method', 6.394195556640625)],\n",
       " [('count method', 9.090909090909092),\n",
       "  ('area method', 59.30732121868522),\n",
       "  ('overlap method', 7.16400146484375)]]"
      ]
     },
     "execution_count": 8,
     "metadata": {},
     "output_type": "execute_result"
    }
   ],
   "source": [
    "onehalf"
   ]
  },
  {
   "cell_type": "code",
   "execution_count": 9,
   "metadata": {},
   "outputs": [
    {
     "data": {
      "text/plain": [
       "[[('count method', 22.516556291390728),\n",
       "  ('area method', 7.685899557208841),\n",
       "  ('overlap method', 40.20576477050781)],\n",
       " [('count method', 100.0),\n",
       "  ('area method', 0.0),\n",
       "  ('overlap method', 32.49359130859375)],\n",
       " [('count method', 100.0),\n",
       "  ('area method', 0.0),\n",
       "  ('overlap method', 32.49359130859375)],\n",
       " [('count method', 18.543046357615893),\n",
       "  ('area method', 3.6035613656662657),\n",
       "  ('overlap method', 35.749053955078125)],\n",
       " [('count method', 21.85430463576159),\n",
       "  ('area method', 7.5526292361754646),\n",
       "  ('overlap method', 39.849090576171875)],\n",
       " [('count method', 18.543046357615893),\n",
       "  ('area method', 3.59791982687883),\n",
       "  ('overlap method', 35.74562072753906)],\n",
       " [('count method', 15.894039735099339),\n",
       "  ('area method', 5.101520946396838),\n",
       "  ('overlap method', 37.6068115234375)]]"
      ]
     },
     "execution_count": 9,
     "metadata": {},
     "output_type": "execute_result"
    }
   ],
   "source": [
    "three"
   ]
  },
  {
   "cell_type": "code",
   "execution_count": 10,
   "metadata": {},
   "outputs": [
    {
     "data": {
      "text/plain": [
       "[[('count method', 11.711711711711711),\n",
       "  ('area method', 1.8545122410180344),\n",
       "  ('overlap method', 35.760498046875)],\n",
       " [('count method', 100.0),\n",
       "  ('area method', 0.0),\n",
       "  ('overlap method', 28.530120849609375)],\n",
       " [('count method', 42.34234234234234),\n",
       "  ('area method', 20.25187479663689),\n",
       "  ('overlap method', 47.48420715332031)],\n",
       " [('count method', 6.306306306306306),\n",
       "  ('area method', -2.62106560813528),\n",
       "  ('overlap method', 30.759811401367188)],\n",
       " [('count method', 13.513513513513514),\n",
       "  ('area method', 2.692095983189425),\n",
       "  ('overlap method', 36.055755615234375)],\n",
       " [('count method', 6.306306306306306),\n",
       "  ('area method', -2.627299151062286),\n",
       "  ('overlap method', 30.757522583007812)],\n",
       " [('count method', 5.405405405405405),\n",
       "  ('area method', -1.0533905508738628),\n",
       "  ('overlap method', 33.0078125)]]"
      ]
     },
     "execution_count": 10,
     "metadata": {},
     "output_type": "execute_result"
    }
   ],
   "source": [
    "SOD"
   ]
  },
  {
   "cell_type": "code",
   "execution_count": 1,
   "metadata": {},
   "outputs": [
    {
     "data": {
      "text/html": [
       "<div>\n",
       "<style scoped>\n",
       "    .dataframe tbody tr th:only-of-type {\n",
       "        vertical-align: middle;\n",
       "    }\n",
       "\n",
       "    .dataframe tbody tr th {\n",
       "        vertical-align: top;\n",
       "    }\n",
       "\n",
       "    .dataframe thead th {\n",
       "        text-align: right;\n",
       "    }\n",
       "</style>\n",
       "<table border=\"1\" class=\"dataframe\">\n",
       "  <thead>\n",
       "    <tr style=\"text-align: right;\">\n",
       "      <th></th>\n",
       "      <th>Img_name</th>\n",
       "      <th>Threshold_method</th>\n",
       "      <th>score_method</th>\n",
       "      <th>Score</th>\n",
       "    </tr>\n",
       "  </thead>\n",
       "  <tbody>\n",
       "    <tr>\n",
       "      <th>0</th>\n",
       "      <td>Non-treated_40x_thalamus_1</td>\n",
       "      <td>Li</td>\n",
       "      <td>count method</td>\n",
       "      <td>16.541</td>\n",
       "    </tr>\n",
       "    <tr>\n",
       "      <th>1</th>\n",
       "      <td>Non-treated_40x_thalamus_1</td>\n",
       "      <td>Li</td>\n",
       "      <td>area method</td>\n",
       "      <td>17.410</td>\n",
       "    </tr>\n",
       "    <tr>\n",
       "      <th>2</th>\n",
       "      <td>Non-treated_40x_thalamus_1</td>\n",
       "      <td>Li</td>\n",
       "      <td>overlap method</td>\n",
       "      <td>20.623</td>\n",
       "    </tr>\n",
       "  </tbody>\n",
       "</table>\n",
       "</div>"
      ],
      "text/plain": [
       "                     Img_name Threshold_method    score_method   Score\n",
       "0  Non-treated_40x_thalamus_1               Li    count method  16.541\n",
       "1  Non-treated_40x_thalamus_1               Li     area method  17.410\n",
       "2  Non-treated_40x_thalamus_1               Li  overlap method  20.623"
      ]
     },
     "execution_count": 1,
     "metadata": {},
     "output_type": "execute_result"
    }
   ],
   "source": [
    "import csv\n",
    "\n",
    "with open('scores.csv', 'w', newline='') as csvfile:\n",
    "    fieldnames = ['Img_name', 'Threshold_method', 'score_method', 'Score']\n",
    "    writer = csv.DictWriter(csvfile, fieldnames=fieldnames)\n",
    "\n",
    "    writer.writeheader()\n",
    "    writer.writerow({'Img_name': 'Non-treated_40x_thalamus_1', 'Threshold_method': 'Li', 'score_method': 'count method', 'Score': 16.541})\n",
    "    writer.writerow({'Img_name': 'Non-treated_40x_thalamus_1', 'Threshold_method': 'Li', 'score_method': 'area method', 'Score': 17.410})\n",
    "    writer.writerow({'Img_name': 'Non-treated_40x_thalamus_1', 'Threshold_method': 'Li', 'score_method': 'overlap method', 'Score': 20.623})\n",
    "    \n",
    "import pandas as pd\n",
    "df = pd.read_csv('scores.csv')\n",
    "df"
   ]
  },
  {
   "cell_type": "code",
   "execution_count": null,
   "metadata": {},
   "outputs": [],
   "source": []
  },
  {
   "cell_type": "code",
   "execution_count": 11,
   "metadata": {},
   "outputs": [
    {
     "data": {
      "text/html": [
       "<div>\n",
       "<style scoped>\n",
       "    .dataframe tbody tr th:only-of-type {\n",
       "        vertical-align: middle;\n",
       "    }\n",
       "\n",
       "    .dataframe tbody tr th {\n",
       "        vertical-align: top;\n",
       "    }\n",
       "\n",
       "    .dataframe thead th {\n",
       "        text-align: right;\n",
       "    }\n",
       "</style>\n",
       "<table border=\"1\" class=\"dataframe\">\n",
       "  <thead>\n",
       "    <tr style=\"text-align: right;\">\n",
       "      <th></th>\n",
       "      <th>Img_name</th>\n",
       "      <th>Threshold_method</th>\n",
       "      <th>score_method</th>\n",
       "      <th>Score</th>\n",
       "    </tr>\n",
       "  </thead>\n",
       "  <tbody>\n",
       "    <tr>\n",
       "      <th>0</th>\n",
       "      <td>OGD-0.5h_40x_thalamus_1</td>\n",
       "      <td>Li</td>\n",
       "      <td>count method</td>\n",
       "      <td>12.195</td>\n",
       "    </tr>\n",
       "    <tr>\n",
       "      <th>1</th>\n",
       "      <td>OGD-0.5h_40x_thalamus_1</td>\n",
       "      <td>Li</td>\n",
       "      <td>area method</td>\n",
       "      <td>21.068</td>\n",
       "    </tr>\n",
       "    <tr>\n",
       "      <th>2</th>\n",
       "      <td>OGD-0.5h_40x_thalamus_1</td>\n",
       "      <td>Li</td>\n",
       "      <td>overlap method</td>\n",
       "      <td>18.516</td>\n",
       "    </tr>\n",
       "    <tr>\n",
       "      <th>3</th>\n",
       "      <td>OGD-0.5h_40x_thalamus_1</td>\n",
       "      <td>Minimum</td>\n",
       "      <td>count method</td>\n",
       "      <td>100.000</td>\n",
       "    </tr>\n",
       "    <tr>\n",
       "      <th>4</th>\n",
       "      <td>OGD-0.5h_40x_thalamus_1</td>\n",
       "      <td>Minimum</td>\n",
       "      <td>area method</td>\n",
       "      <td>100.000</td>\n",
       "    </tr>\n",
       "    <tr>\n",
       "      <th>5</th>\n",
       "      <td>OGD-0.5h_40x_thalamus_1</td>\n",
       "      <td>Minimum</td>\n",
       "      <td>overlap method</td>\n",
       "      <td>15.195</td>\n",
       "    </tr>\n",
       "    <tr>\n",
       "      <th>6</th>\n",
       "      <td>OGD-0.5h_40x_thalamus_1</td>\n",
       "      <td>Triangle</td>\n",
       "      <td>count method</td>\n",
       "      <td>13.821</td>\n",
       "    </tr>\n",
       "    <tr>\n",
       "      <th>7</th>\n",
       "      <td>OGD-0.5h_40x_thalamus_1</td>\n",
       "      <td>Triangle</td>\n",
       "      <td>area method</td>\n",
       "      <td>22.468</td>\n",
       "    </tr>\n",
       "    <tr>\n",
       "      <th>8</th>\n",
       "      <td>OGD-0.5h_40x_thalamus_1</td>\n",
       "      <td>Triangle</td>\n",
       "      <td>overlap method</td>\n",
       "      <td>20.816</td>\n",
       "    </tr>\n",
       "    <tr>\n",
       "      <th>9</th>\n",
       "      <td>OGD-0.5h_40x_thalamus_1</td>\n",
       "      <td>Isodata</td>\n",
       "      <td>count method</td>\n",
       "      <td>15.447</td>\n",
       "    </tr>\n",
       "    <tr>\n",
       "      <th>10</th>\n",
       "      <td>OGD-0.5h_40x_thalamus_1</td>\n",
       "      <td>Isodata</td>\n",
       "      <td>area method</td>\n",
       "      <td>16.879</td>\n",
       "    </tr>\n",
       "    <tr>\n",
       "      <th>11</th>\n",
       "      <td>OGD-0.5h_40x_thalamus_1</td>\n",
       "      <td>Isodata</td>\n",
       "      <td>overlap method</td>\n",
       "      <td>16.408</td>\n",
       "    </tr>\n",
       "    <tr>\n",
       "      <th>12</th>\n",
       "      <td>OGD-0.5h_40x_thalamus_1</td>\n",
       "      <td>Mean</td>\n",
       "      <td>count method</td>\n",
       "      <td>13.821</td>\n",
       "    </tr>\n",
       "    <tr>\n",
       "      <th>13</th>\n",
       "      <td>OGD-0.5h_40x_thalamus_1</td>\n",
       "      <td>Mean</td>\n",
       "      <td>area method</td>\n",
       "      <td>21.950</td>\n",
       "    </tr>\n",
       "    <tr>\n",
       "      <th>14</th>\n",
       "      <td>OGD-0.5h_40x_thalamus_1</td>\n",
       "      <td>Mean</td>\n",
       "      <td>overlap method</td>\n",
       "      <td>20.593</td>\n",
       "    </tr>\n",
       "    <tr>\n",
       "      <th>15</th>\n",
       "      <td>OGD-0.5h_40x_thalamus_1</td>\n",
       "      <td>Otsu</td>\n",
       "      <td>count method</td>\n",
       "      <td>15.447</td>\n",
       "    </tr>\n",
       "    <tr>\n",
       "      <th>16</th>\n",
       "      <td>OGD-0.5h_40x_thalamus_1</td>\n",
       "      <td>Otsu</td>\n",
       "      <td>area method</td>\n",
       "      <td>16.879</td>\n",
       "    </tr>\n",
       "    <tr>\n",
       "      <th>17</th>\n",
       "      <td>OGD-0.5h_40x_thalamus_1</td>\n",
       "      <td>Otsu</td>\n",
       "      <td>overlap method</td>\n",
       "      <td>16.408</td>\n",
       "    </tr>\n",
       "    <tr>\n",
       "      <th>18</th>\n",
       "      <td>OGD-0.5h_40x_thalamus_1</td>\n",
       "      <td>Yen</td>\n",
       "      <td>count method</td>\n",
       "      <td>10.569</td>\n",
       "    </tr>\n",
       "    <tr>\n",
       "      <th>19</th>\n",
       "      <td>OGD-0.5h_40x_thalamus_1</td>\n",
       "      <td>Yen</td>\n",
       "      <td>area method</td>\n",
       "      <td>17.149</td>\n",
       "    </tr>\n",
       "    <tr>\n",
       "      <th>20</th>\n",
       "      <td>OGD-0.5h_40x_thalamus_1</td>\n",
       "      <td>Yen</td>\n",
       "      <td>overlap method</td>\n",
       "      <td>17.151</td>\n",
       "    </tr>\n",
       "  </tbody>\n",
       "</table>\n",
       "</div>"
      ],
      "text/plain": [
       "                   Img_name Threshold_method    score_method    Score\n",
       "0   OGD-0.5h_40x_thalamus_1               Li    count method   12.195\n",
       "1   OGD-0.5h_40x_thalamus_1               Li     area method   21.068\n",
       "2   OGD-0.5h_40x_thalamus_1               Li  overlap method   18.516\n",
       "3   OGD-0.5h_40x_thalamus_1         Minimum     count method  100.000\n",
       "4   OGD-0.5h_40x_thalamus_1         Minimum      area method  100.000\n",
       "5   OGD-0.5h_40x_thalamus_1         Minimum   overlap method   15.195\n",
       "6   OGD-0.5h_40x_thalamus_1         Triangle    count method   13.821\n",
       "7   OGD-0.5h_40x_thalamus_1         Triangle     area method   22.468\n",
       "8   OGD-0.5h_40x_thalamus_1         Triangle  overlap method   20.816\n",
       "9   OGD-0.5h_40x_thalamus_1          Isodata    count method   15.447\n",
       "10  OGD-0.5h_40x_thalamus_1          Isodata     area method   16.879\n",
       "11  OGD-0.5h_40x_thalamus_1          Isodata  overlap method   16.408\n",
       "12  OGD-0.5h_40x_thalamus_1             Mean    count method   13.821\n",
       "13  OGD-0.5h_40x_thalamus_1             Mean     area method   21.950\n",
       "14  OGD-0.5h_40x_thalamus_1             Mean  overlap method   20.593\n",
       "15  OGD-0.5h_40x_thalamus_1             Otsu    count method   15.447\n",
       "16  OGD-0.5h_40x_thalamus_1             Otsu     area method   16.879\n",
       "17  OGD-0.5h_40x_thalamus_1             Otsu  overlap method   16.408\n",
       "18  OGD-0.5h_40x_thalamus_1              Yen    count method   10.569\n",
       "19  OGD-0.5h_40x_thalamus_1              Yen     area method   17.149\n",
       "20  OGD-0.5h_40x_thalamus_1              Yen  overlap method   17.151"
      ]
     },
     "execution_count": 11,
     "metadata": {},
     "output_type": "execute_result"
    }
   ],
   "source": [
    "import pandas as pd\n",
    "df = pd.read_csv('scores.csv')\n",
    "df"
   ]
  },
  {
   "cell_type": "code",
   "execution_count": 1,
   "metadata": {},
   "outputs": [
    {
     "data": {
      "text/html": [
       "<div>\n",
       "<style scoped>\n",
       "    .dataframe tbody tr th:only-of-type {\n",
       "        vertical-align: middle;\n",
       "    }\n",
       "\n",
       "    .dataframe tbody tr th {\n",
       "        vertical-align: top;\n",
       "    }\n",
       "\n",
       "    .dataframe thead th {\n",
       "        text-align: right;\n",
       "    }\n",
       "</style>\n",
       "<table border=\"1\" class=\"dataframe\">\n",
       "  <thead>\n",
       "    <tr style=\"text-align: right;\">\n",
       "      <th></th>\n",
       "      <th>Threshold_method</th>\n",
       "      <th>mean score</th>\n",
       "      <th>rank</th>\n",
       "    </tr>\n",
       "  </thead>\n",
       "  <tbody>\n",
       "    <tr>\n",
       "      <th>0</th>\n",
       "      <td>Li</td>\n",
       "      <td>13.20</td>\n",
       "      <td>1</td>\n",
       "    </tr>\n",
       "    <tr>\n",
       "      <th>1</th>\n",
       "      <td>Triangle</td>\n",
       "      <td>15.98</td>\n",
       "      <td>2</td>\n",
       "    </tr>\n",
       "    <tr>\n",
       "      <th>2</th>\n",
       "      <td>Yen</td>\n",
       "      <td>21.73</td>\n",
       "      <td>3</td>\n",
       "    </tr>\n",
       "    <tr>\n",
       "      <th>3</th>\n",
       "      <td>Mean</td>\n",
       "      <td>28.97</td>\n",
       "      <td>4</td>\n",
       "    </tr>\n",
       "    <tr>\n",
       "      <th>4</th>\n",
       "      <td>Isodata</td>\n",
       "      <td>32.40</td>\n",
       "      <td>5</td>\n",
       "    </tr>\n",
       "    <tr>\n",
       "      <th>5</th>\n",
       "      <td>Otsu</td>\n",
       "      <td>35.02</td>\n",
       "      <td>6</td>\n",
       "    </tr>\n",
       "    <tr>\n",
       "      <th>6</th>\n",
       "      <td>Yen</td>\n",
       "      <td>55.17</td>\n",
       "      <td>7</td>\n",
       "    </tr>\n",
       "  </tbody>\n",
       "</table>\n",
       "</div>"
      ],
      "text/plain": [
       "  Threshold_method  mean score  rank\n",
       "0               Li       13.20     1\n",
       "1         Triangle       15.98     2\n",
       "2              Yen       21.73     3\n",
       "3             Mean       28.97     4\n",
       "4          Isodata       32.40     5\n",
       "5             Otsu       35.02     6\n",
       "6              Yen       55.17     7"
      ]
     },
     "execution_count": 1,
     "metadata": {},
     "output_type": "execute_result"
    }
   ],
   "source": [
    "import csv\n",
    "\n",
    "with open('scores.csv', 'w', newline='') as csvfile:\n",
    "    fieldnames = ['Threshold_method', 'mean score', 'rank']\n",
    "    writer = csv.DictWriter(csvfile, fieldnames=fieldnames)\n",
    "\n",
    "    writer.writeheader()\n",
    "    writer.writerow({'Threshold_method': 'Li', 'mean score': 13.20, 'rank': '1'})\n",
    "    writer.writerow({'Threshold_method': 'Triangle', 'mean score': 15.98, 'rank': '2'})\n",
    "    writer.writerow({'Threshold_method': 'Yen', 'mean score': 21.73, 'rank': '3'})\n",
    "    writer.writerow({'Threshold_method': 'Mean', 'mean score': 28.97, 'rank': '4'})\n",
    "    writer.writerow({'Threshold_method': 'Isodata', 'mean score': 32.40, 'rank': '5'})\n",
    "    writer.writerow({'Threshold_method': 'Otsu', 'mean score': 35.02, 'rank': '6'})\n",
    "    writer.writerow({'Threshold_method': 'Yen', 'mean score': 55.17, 'rank': '7'})\n",
    "import pandas as pd\n",
    "df = pd.read_csv('scores.csv')\n",
    "df"
   ]
  },
  {
   "cell_type": "code",
   "execution_count": null,
   "metadata": {},
   "outputs": [],
   "source": []
  }
 ],
 "metadata": {
  "kernelspec": {
   "display_name": "Python 3",
   "language": "python",
   "name": "python3"
  },
  "language_info": {
   "codemirror_mode": {
    "name": "ipython",
    "version": 3
   },
   "file_extension": ".py",
   "mimetype": "text/x-python",
   "name": "python",
   "nbconvert_exporter": "python",
   "pygments_lexer": "ipython3",
   "version": "3.7.0"
  }
 },
 "nbformat": 4,
 "nbformat_minor": 2
}
